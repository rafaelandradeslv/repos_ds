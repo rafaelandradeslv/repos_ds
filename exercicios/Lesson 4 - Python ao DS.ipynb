{
 "cells": [
  {
   "cell_type": "markdown",
   "metadata": {
    "heading_collapsed": true
   },
   "source": [
    "# Aula 04: Estruturas de controle\n",
    "\n",
    "### Novas perguntas de negócio\n"
   ]
  },
  {
   "cell_type": "markdown",
   "metadata": {
    "heading_collapsed": true
   },
   "source": [
    "# Imports"
   ]
  },
  {
   "cell_type": "code",
   "execution_count": 13,
   "metadata": {
    "hidden": true
   },
   "outputs": [],
   "source": [
    "import pandas as pd\n",
    "import numpy as nd\n",
    "import plotly.express as px\n",
    "from matplotlib import pyplot as plt"
   ]
  },
  {
   "cell_type": "markdown",
   "metadata": {},
   "source": [
    "# Launch Application"
   ]
  },
  {
   "cell_type": "code",
   "execution_count": 14,
   "metadata": {},
   "outputs": [
    {
     "data": {
      "text/html": [
       "<div>\n",
       "<style scoped>\n",
       "    .dataframe tbody tr th:only-of-type {\n",
       "        vertical-align: middle;\n",
       "    }\n",
       "\n",
       "    .dataframe tbody tr th {\n",
       "        vertical-align: top;\n",
       "    }\n",
       "\n",
       "    .dataframe thead th {\n",
       "        text-align: right;\n",
       "    }\n",
       "</style>\n",
       "<table border=\"1\" class=\"dataframe\">\n",
       "  <thead>\n",
       "    <tr style=\"text-align: right;\">\n",
       "      <th></th>\n",
       "      <th>id</th>\n",
       "      <th>date</th>\n",
       "      <th>price</th>\n",
       "      <th>bedrooms</th>\n",
       "      <th>bathrooms</th>\n",
       "      <th>sqft_living</th>\n",
       "      <th>sqft_lot</th>\n",
       "      <th>floors</th>\n",
       "      <th>waterfront</th>\n",
       "      <th>view</th>\n",
       "      <th>...</th>\n",
       "      <th>grade</th>\n",
       "      <th>sqft_above</th>\n",
       "      <th>sqft_basement</th>\n",
       "      <th>yr_built</th>\n",
       "      <th>yr_renovated</th>\n",
       "      <th>zipcode</th>\n",
       "      <th>lat</th>\n",
       "      <th>long</th>\n",
       "      <th>sqft_living15</th>\n",
       "      <th>sqft_lot15</th>\n",
       "    </tr>\n",
       "  </thead>\n",
       "  <tbody>\n",
       "    <tr>\n",
       "      <th>0</th>\n",
       "      <td>7129300520</td>\n",
       "      <td>20141013T000000</td>\n",
       "      <td>221900.0</td>\n",
       "      <td>3</td>\n",
       "      <td>1.00</td>\n",
       "      <td>1180</td>\n",
       "      <td>5650</td>\n",
       "      <td>1.0</td>\n",
       "      <td>0</td>\n",
       "      <td>0</td>\n",
       "      <td>...</td>\n",
       "      <td>7</td>\n",
       "      <td>1180</td>\n",
       "      <td>0</td>\n",
       "      <td>1955</td>\n",
       "      <td>0</td>\n",
       "      <td>98178</td>\n",
       "      <td>47.5112</td>\n",
       "      <td>-122.257</td>\n",
       "      <td>1340</td>\n",
       "      <td>5650</td>\n",
       "    </tr>\n",
       "    <tr>\n",
       "      <th>1</th>\n",
       "      <td>6414100192</td>\n",
       "      <td>20141209T000000</td>\n",
       "      <td>538000.0</td>\n",
       "      <td>3</td>\n",
       "      <td>2.25</td>\n",
       "      <td>2570</td>\n",
       "      <td>7242</td>\n",
       "      <td>2.0</td>\n",
       "      <td>0</td>\n",
       "      <td>0</td>\n",
       "      <td>...</td>\n",
       "      <td>7</td>\n",
       "      <td>2170</td>\n",
       "      <td>400</td>\n",
       "      <td>1951</td>\n",
       "      <td>1991</td>\n",
       "      <td>98125</td>\n",
       "      <td>47.7210</td>\n",
       "      <td>-122.319</td>\n",
       "      <td>1690</td>\n",
       "      <td>7639</td>\n",
       "    </tr>\n",
       "    <tr>\n",
       "      <th>2</th>\n",
       "      <td>5631500400</td>\n",
       "      <td>20150225T000000</td>\n",
       "      <td>180000.0</td>\n",
       "      <td>2</td>\n",
       "      <td>1.00</td>\n",
       "      <td>770</td>\n",
       "      <td>10000</td>\n",
       "      <td>1.0</td>\n",
       "      <td>0</td>\n",
       "      <td>0</td>\n",
       "      <td>...</td>\n",
       "      <td>6</td>\n",
       "      <td>770</td>\n",
       "      <td>0</td>\n",
       "      <td>1933</td>\n",
       "      <td>0</td>\n",
       "      <td>98028</td>\n",
       "      <td>47.7379</td>\n",
       "      <td>-122.233</td>\n",
       "      <td>2720</td>\n",
       "      <td>8062</td>\n",
       "    </tr>\n",
       "    <tr>\n",
       "      <th>3</th>\n",
       "      <td>2487200875</td>\n",
       "      <td>20141209T000000</td>\n",
       "      <td>604000.0</td>\n",
       "      <td>4</td>\n",
       "      <td>3.00</td>\n",
       "      <td>1960</td>\n",
       "      <td>5000</td>\n",
       "      <td>1.0</td>\n",
       "      <td>0</td>\n",
       "      <td>0</td>\n",
       "      <td>...</td>\n",
       "      <td>7</td>\n",
       "      <td>1050</td>\n",
       "      <td>910</td>\n",
       "      <td>1965</td>\n",
       "      <td>0</td>\n",
       "      <td>98136</td>\n",
       "      <td>47.5208</td>\n",
       "      <td>-122.393</td>\n",
       "      <td>1360</td>\n",
       "      <td>5000</td>\n",
       "    </tr>\n",
       "    <tr>\n",
       "      <th>4</th>\n",
       "      <td>1954400510</td>\n",
       "      <td>20150218T000000</td>\n",
       "      <td>510000.0</td>\n",
       "      <td>3</td>\n",
       "      <td>2.00</td>\n",
       "      <td>1680</td>\n",
       "      <td>8080</td>\n",
       "      <td>1.0</td>\n",
       "      <td>0</td>\n",
       "      <td>0</td>\n",
       "      <td>...</td>\n",
       "      <td>8</td>\n",
       "      <td>1680</td>\n",
       "      <td>0</td>\n",
       "      <td>1987</td>\n",
       "      <td>0</td>\n",
       "      <td>98074</td>\n",
       "      <td>47.6168</td>\n",
       "      <td>-122.045</td>\n",
       "      <td>1800</td>\n",
       "      <td>7503</td>\n",
       "    </tr>\n",
       "  </tbody>\n",
       "</table>\n",
       "<p>5 rows × 21 columns</p>\n",
       "</div>"
      ],
      "text/plain": [
       "           id             date     price  bedrooms  bathrooms  sqft_living  \\\n",
       "0  7129300520  20141013T000000  221900.0         3       1.00         1180   \n",
       "1  6414100192  20141209T000000  538000.0         3       2.25         2570   \n",
       "2  5631500400  20150225T000000  180000.0         2       1.00          770   \n",
       "3  2487200875  20141209T000000  604000.0         4       3.00         1960   \n",
       "4  1954400510  20150218T000000  510000.0         3       2.00         1680   \n",
       "\n",
       "   sqft_lot  floors  waterfront  view  ...  grade  sqft_above  sqft_basement  \\\n",
       "0      5650     1.0           0     0  ...      7        1180              0   \n",
       "1      7242     2.0           0     0  ...      7        2170            400   \n",
       "2     10000     1.0           0     0  ...      6         770              0   \n",
       "3      5000     1.0           0     0  ...      7        1050            910   \n",
       "4      8080     1.0           0     0  ...      8        1680              0   \n",
       "\n",
       "   yr_built  yr_renovated  zipcode      lat     long  sqft_living15  \\\n",
       "0      1955             0    98178  47.5112 -122.257           1340   \n",
       "1      1951          1991    98125  47.7210 -122.319           1690   \n",
       "2      1933             0    98028  47.7379 -122.233           2720   \n",
       "3      1965             0    98136  47.5208 -122.393           1360   \n",
       "4      1987             0    98074  47.6168 -122.045           1800   \n",
       "\n",
       "   sqft_lot15  \n",
       "0        5650  \n",
       "1        7639  \n",
       "2        8062  \n",
       "3        5000  \n",
       "4        7503  \n",
       "\n",
       "[5 rows x 21 columns]"
      ]
     },
     "execution_count": 14,
     "metadata": {},
     "output_type": "execute_result"
    }
   ],
   "source": [
    "df = pd.read_csv('../datasets/kc_house_data.csv')\n",
    "df.head()"
   ]
  },
  {
   "cell_type": "markdown",
   "metadata": {},
   "source": [
    "# Questions | Answers - Lesson Four"
   ]
  },
  {
   "cell_type": "markdown",
   "metadata": {},
   "source": [
    "\n",
    "## 1. Qual a quantidade de imóveis por nível?\n",
    " - Nivel 0: Preço entre R$ 0.00 e R$ 321.950\n",
    " - Nivel 1: Preço entre R$ 321.950 e R$ 450.000\n",
    " - Nivel 2: Preço entre R$ 450.000 e R$ 645.000\n",
    " - Nivel 3: Preço entre R$ Acima de R$ 645.000\n"
   ]
  },
  {
   "cell_type": "code",
   "execution_count": 15,
   "metadata": {},
   "outputs": [],
   "source": [
    "df['nivel'] = '-'\n",
    "\n",
    "# classificando por nível\n",
    "nivel_0 = df.loc[df['price'] < 321950, 'nivel'] = 'nivel 0'\n",
    "\n",
    "nivel_1 = df.loc[(df['price'] >= 321950) & (df['price'] < 450000), 'nivel'] = 'nivel 1'\n",
    "\n",
    "nivel_2 = df.loc[(df['price'] >= 450000) & (df['price'] < 645000), 'nivel'] = 'nivel 2'\n",
    "\n",
    "nivel_3 = df.loc[(df['price'] >= 645000), 'nivel'] = 'nivel 3'\n",
    "\n",
    "# quantidade por nível\n",
    "qt_nv0 = df.loc[df['nivel'] == 'nivel 0'].shape[0]\n",
    "qt_nv1 = df.loc[df['nivel'] == 'nivel 1'].shape[0]\n",
    "qt_nv2 = df.loc[df['nivel'] == 'nivel 2'].shape[0]\n",
    "qt_nv3 = df.loc[df['nivel'] == 'nivel 3'].shape[0]"
   ]
  },
  {
   "cell_type": "code",
   "execution_count": 16,
   "metadata": {},
   "outputs": [
    {
     "name": "stdout",
     "output_type": "stream",
     "text": [
      "Quantidade de casas nível 0 = 5403\n",
      "Quantidade de casas nível 1 = 5289\n",
      "Quantidade de casas nível 2 = 5508\n",
      "Quantidade de casas nível 3 = 5413\n"
     ]
    }
   ],
   "source": [
    "print(f'Quantidade de casas nível 0 = {qt_nv0}')\n",
    "print(f'Quantidade de casas nível 1 = {qt_nv1}')\n",
    "print(f'Quantidade de casas nível 2 = {qt_nv2}')\n",
    "print(f'Quantidade de casas nível 3 = {qt_nv3}')"
   ]
  },
  {
   "cell_type": "markdown",
   "metadata": {},
   "source": [
    "## 2. Adicione as seguintes informações ao imóvel:\n",
    " - Nome da Rua\n",
    " - Número do imóvel\n",
    " - O nome do Bairro\n",
    " - O nome da cidade\n",
    " - O nome do estado\n",
    "\n",
    "        - Onde tem essas informações? bliblioteca GEOPY\n",
    "            - Tem no banco de dados da empresa? - NÃO\n",
    "            - Tem essas informações fornecidas por uma API? - SIM\n",
    "            - Dentro de arquivo na pasta do meu colega de trabalho ? - NÃO\n",
    "            \n",
    "        - Qual dados temos na base para conseguir fazer link? - LAT E LONG\n",
    "        - Como coletar esse dado e como anexá-lo no conjunto de dados original ? - "
   ]
  },
  {
   "cell_type": "code",
   "execution_count": 17,
   "metadata": {},
   "outputs": [],
   "source": [
    "# IMPORTAR A BIBLIOTECA GEOPY NOMINATIM\n",
    "from geopy.geocoders import Nominatim"
   ]
  },
  {
   "cell_type": "code",
   "execution_count": 18,
   "metadata": {},
   "outputs": [],
   "source": [
    "# AGORA VAMOS UTILIZAR AGENTE DO NOMINATIM\n",
    "geolocator = Nominatim (user_agent= 'geoapiExercises')"
   ]
  },
  {
   "cell_type": "code",
   "execution_count": 19,
   "metadata": {},
   "outputs": [],
   "source": [
    "# PASSAR COORDENADAS DO ENDEREÇO PARA A VARIÁVEL QUE RECEBE O AGENT\n",
    "response = geolocator.reverse ('47.5112, -122.257')"
   ]
  },
  {
   "cell_type": "code",
   "execution_count": 20,
   "metadata": {},
   "outputs": [
    {
     "data": {
      "text/plain": [
       "{'place_id': 147183522,\n",
       " 'licence': 'Data © OpenStreetMap contributors, ODbL 1.0. https://osm.org/copyright',\n",
       " 'osm_type': 'way',\n",
       " 'osm_id': 236673600,\n",
       " 'lat': '47.5112302',\n",
       " 'lon': '-122.25676111324441',\n",
       " 'display_name': '10012, 61st Avenue South, Rainier Beach, Seattle, King County, Washington, 98178, United States',\n",
       " 'address': {'house_number': '10012',\n",
       "  'road': '61st Avenue South',\n",
       "  'neighbourhood': 'Rainier Beach',\n",
       "  'city': 'Seattle',\n",
       "  'county': 'King County',\n",
       "  'state': 'Washington',\n",
       "  'postcode': '98178',\n",
       "  'country': 'United States',\n",
       "  'country_code': 'us'},\n",
       " 'boundingbox': ['47.511189', '47.5112943', '-122.2568571', '-122.2566651']}"
      ]
     },
     "execution_count": 20,
     "metadata": {},
     "output_type": "execute_result"
    }
   ],
   "source": [
    "# VISULIZA OS DADOS DA API\n",
    "response.raw "
   ]
  },
  {
   "cell_type": "code",
   "execution_count": 21,
   "metadata": {},
   "outputs": [
    {
     "data": {
      "text/plain": [
       "{'house_number': '10012',\n",
       " 'road': '61st Avenue South',\n",
       " 'neighbourhood': 'Rainier Beach',\n",
       " 'city': 'Seattle',\n",
       " 'county': 'King County',\n",
       " 'state': 'Washington',\n",
       " 'postcode': '98178',\n",
       " 'country': 'United States',\n",
       " 'country_code': 'us'}"
      ]
     },
     "execution_count": 21,
     "metadata": {},
     "output_type": "execute_result"
    }
   ],
   "source": [
    "# EXTRAINDO DADOS DO ENDEREÇO\n",
    "response.raw['address']"
   ]
  },
  {
   "cell_type": "code",
   "execution_count": 22,
   "metadata": {},
   "outputs": [
    {
     "data": {
      "text/plain": [
       "'Washington'"
      ]
     },
     "execution_count": 22,
     "metadata": {},
     "output_type": "execute_result"
    }
   ],
   "source": [
    "# EXTRAINDO VALORES INDIVIDUAIS\n",
    "response.raw['address']['house_number']\n",
    "response.raw['address']['road']\n",
    "response.raw['address']['neighbourhood']\n",
    "response.raw['address']['city']\n",
    "response.raw['address']['country']\n",
    "response.raw['address']['state']"
   ]
  },
  {
   "cell_type": "code",
   "execution_count": 23,
   "metadata": {},
   "outputs": [],
   "source": [
    "# CRIANDO NOVAS COLUNAS NO DATAFRAME\n",
    "df['house_number'] = 'NA'\n",
    "df['road'] = 'NA'\n",
    "df['neighbourhood'] = 'NA'\n",
    "df['city'] = 'NA'\n",
    "df['country'] = 'NA'\n",
    "df['state'] = 'NA'"
   ]
  },
  {
   "cell_type": "code",
   "execution_count": 24,
   "metadata": {},
   "outputs": [],
   "source": [
    "# ADICIONANDO OS VALORES DE CADA ENDEREÇO\n",
    "df.loc[0, 'house_number']   = response.raw['address']['house_number']\n",
    "df.loc[0, 'road']           = response.raw['address']['road']\n",
    "df.loc[0, 'neighbourhood']  = response.raw['address']['neighbourhood']\n",
    "df.loc[0, 'city']           = response.raw['address']['city']\n",
    "df.loc[0, 'country']        = response.raw['address']['country']\n",
    "df.loc[0, 'state']          = response.raw['address']['state']"
   ]
  },
  {
   "cell_type": "code",
   "execution_count": 26,
   "metadata": {},
   "outputs": [
    {
     "name": "stdout",
     "output_type": "stream",
     "text": [
      "Loop 0 / 21613\n",
      "Loop 1 / 21613\n",
      "Loop 2 / 21613\n",
      "Loop 3 / 21613\n",
      "Loop 4 / 21613\n",
      "Loop 5 / 21613\n",
      "Loop 6 / 21613\n",
      "Loop 7 / 21613\n",
      "Loop 8 / 21613\n",
      "Loop 9 / 21613\n",
      "Loop 10 / 21613\n",
      "Loop 11 / 21613\n",
      "Loop 12 / 21613\n",
      "Loop 13 / 21613\n",
      "Loop 14 / 21613\n",
      "Loop 15 / 21613\n",
      "Loop 16 / 21613\n",
      "Loop 17 / 21613\n",
      "Loop 18 / 21613\n",
      "Loop 19 / 21613\n",
      "Loop 20 / 21613\n",
      "Loop 21 / 21613\n",
      "Loop 22 / 21613\n",
      "Loop 23 / 21613\n",
      "Loop 24 / 21613\n",
      "Loop 25 / 21613\n",
      "Loop 26 / 21613\n",
      "Loop 27 / 21613\n",
      "Loop 28 / 21613\n",
      "Loop 29 / 21613\n",
      "Loop 30 / 21613\n",
      "Loop 31 / 21613\n",
      "Loop 32 / 21613\n",
      "Loop 33 / 21613\n",
      "Loop 34 / 21613\n",
      "Loop 35 / 21613\n",
      "Loop 36 / 21613\n",
      "Loop 37 / 21613\n",
      "Loop 38 / 21613\n",
      "Loop 39 / 21613\n",
      "Loop 40 / 21613\n",
      "Loop 41 / 21613\n",
      "Loop 42 / 21613\n"
     ]
    },
    {
     "name": "stderr",
     "output_type": "stream",
     "text": [
      "ERROR:root:Internal Python error in the inspect module.\n",
      "Below is the traceback from this internal error.\n",
      "\n",
      "\n",
      "KeyboardInterrupt\n",
      "\n"
     ]
    }
   ],
   "source": [
    "# ADICIONANDO VALORES AUTOMATICO\n",
    "for i in range( len(df)):\n",
    "    \"\"\" ideia é concatenar as cooredenadas lat e long \"\"\"\n",
    "    # IMPRIMA NA TELA O PROGRESSO\n",
    "    print ('Loop {} / {}'.format(i, len(df)))\n",
    "    # CRIANDO VARIÁVEL QUERY, PASSAMOS A CONCATENAÇÃO\n",
    "    query = str(df.loc[i, 'lat']) + ',' + str(df.loc[i, 'long'])\n",
    "    # API Request\n",
    "    response = geolocator.reverse (query)"
   ]
  },
  {
   "cell_type": "code",
   "execution_count": null,
   "metadata": {},
   "outputs": [],
   "source": [
    "# ADICIONANDO OS VALORES DE CADA ENDEREÇO\n",
    "df.loc[1, 'house_number']   = response.raw['address']['house_number']\n",
    "df.loc[1, 'road']           = response.raw['address']['road']\n",
    "df.loc[1, 'neighbourhood']  = response.raw['address']['neighbourhood']\n",
    "df.loc[1, 'city']           = response.raw['address']['city']\n",
    "df.loc[1, 'country']        = response.raw['address']['country']\n",
    "df.loc[1, 'state']          = response.raw['address']['state']"
   ]
  },
  {
   "cell_type": "code",
   "execution_count": null,
   "metadata": {},
   "outputs": [],
   "source": []
  },
  {
   "cell_type": "code",
   "execution_count": null,
   "metadata": {},
   "outputs": [],
   "source": []
  },
  {
   "cell_type": "code",
   "execution_count": null,
   "metadata": {},
   "outputs": [],
   "source": []
  },
  {
   "cell_type": "code",
   "execution_count": null,
   "metadata": {},
   "outputs": [],
   "source": []
  },
  {
   "cell_type": "markdown",
   "metadata": {},
   "source": [
    "    \n",
    "## 3. Adicione o nível do imóvel no mapa como uma cor\n"
   ]
  },
  {
   "cell_type": "markdown",
   "metadata": {
    "heading_collapsed": true
   },
   "source": [
    "## 4. Adicione o preço do imóvel como o tamanho do ponto no mapa\n"
   ]
  },
  {
   "cell_type": "markdown",
   "metadata": {
    "heading_collapsed": true
   },
   "source": [
    "## 5. Adicione opções de filtros para fazer as próprias análises\n",
    "  - Eu quero escolher visualizar imóveis com vista para água ou não\n",
    "  - Eu quero escolher visualizar imóveis até um certo valor de preço\n",
    "  "
   ]
  },
  {
   "cell_type": "markdown",
   "metadata": {},
   "source": [
    "## 6. Adicionar opções de filtros no últimos dashboard enviado:\n",
    "   - Visualizar somente valores a partir de uma data disponível para compra\n",
    "\n"
   ]
  },
  {
   "cell_type": "code",
   "execution_count": null,
   "metadata": {},
   "outputs": [],
   "source": [
    "\n"
   ]
  }
 ],
 "metadata": {
  "kernelspec": {
   "display_name": "Python 3",
   "language": "python",
   "name": "python3"
  },
  "language_info": {
   "codemirror_mode": {
    "name": "ipython",
    "version": 3
   },
   "file_extension": ".py",
   "mimetype": "text/x-python",
   "name": "python",
   "nbconvert_exporter": "python",
   "pygments_lexer": "ipython3",
   "version": "3.8.5"
  }
 },
 "nbformat": 4,
 "nbformat_minor": 4
}
