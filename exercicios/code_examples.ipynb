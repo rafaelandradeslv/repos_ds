{
 "cells": [
  {
   "cell_type": "markdown",
   "metadata": {
    "heading_collapsed": true
   },
   "source": [
    "# Iniciando Aplicação"
   ]
  },
  {
   "cell_type": "markdown",
   "metadata": {
    "heading_collapsed": true,
    "hidden": true
   },
   "source": [
    "## Todas as informações contidas neste documento, é de uso pessoal de estudos. \n",
    "\n",
    "\n",
    "### Fontes: \n",
    "####     -   Seja Um Data Scientist ( youtube ), \n",
    "####     -   https://pandas.pydata.org/pandas-docs/stable/reference/general_functions.html\n",
    "### "
   ]
  },
  {
   "cell_type": "markdown",
   "metadata": {},
   "source": [
    "# Bibliotecas"
   ]
  },
  {
   "cell_type": "code",
   "execution_count": 21,
   "metadata": {},
   "outputs": [],
   "source": [
    "import pandas as pd\n",
    "import numpy as np\n",
    "import plotly.express as px  # função que desenha mapa"
   ]
  },
  {
   "cell_type": "markdown",
   "metadata": {
    "heading_collapsed": true
   },
   "source": [
    "# Informações"
   ]
  },
  {
   "cell_type": "markdown",
   "metadata": {
    "heading_collapsed": true,
    "hidden": true
   },
   "source": [
    "### Ler um arquivo em uma pasta"
   ]
  },
  {
   "cell_type": "code",
   "execution_count": 42,
   "metadata": {
    "hidden": true
   },
   "outputs": [
    {
     "data": {
      "text/html": [
       "<div>\n",
       "<style scoped>\n",
       "    .dataframe tbody tr th:only-of-type {\n",
       "        vertical-align: middle;\n",
       "    }\n",
       "\n",
       "    .dataframe tbody tr th {\n",
       "        vertical-align: top;\n",
       "    }\n",
       "\n",
       "    .dataframe thead th {\n",
       "        text-align: right;\n",
       "    }\n",
       "</style>\n",
       "<table border=\"1\" class=\"dataframe\">\n",
       "  <thead>\n",
       "    <tr style=\"text-align: right;\">\n",
       "      <th></th>\n",
       "      <th>id</th>\n",
       "      <th>date</th>\n",
       "      <th>price</th>\n",
       "      <th>bedrooms</th>\n",
       "      <th>bathrooms</th>\n",
       "      <th>sqft_living</th>\n",
       "      <th>sqft_lot</th>\n",
       "      <th>floors</th>\n",
       "      <th>waterfront</th>\n",
       "      <th>view</th>\n",
       "      <th>...</th>\n",
       "      <th>grade</th>\n",
       "      <th>sqft_above</th>\n",
       "      <th>sqft_basement</th>\n",
       "      <th>yr_built</th>\n",
       "      <th>yr_renovated</th>\n",
       "      <th>zipcode</th>\n",
       "      <th>lat</th>\n",
       "      <th>long</th>\n",
       "      <th>sqft_living15</th>\n",
       "      <th>sqft_lot15</th>\n",
       "    </tr>\n",
       "  </thead>\n",
       "  <tbody>\n",
       "    <tr>\n",
       "      <th>0</th>\n",
       "      <td>7129300520</td>\n",
       "      <td>20141013T000000</td>\n",
       "      <td>221900.00</td>\n",
       "      <td>3</td>\n",
       "      <td>1.00</td>\n",
       "      <td>1180</td>\n",
       "      <td>5650</td>\n",
       "      <td>1.00</td>\n",
       "      <td>0</td>\n",
       "      <td>0</td>\n",
       "      <td>...</td>\n",
       "      <td>7</td>\n",
       "      <td>1180</td>\n",
       "      <td>0</td>\n",
       "      <td>1955</td>\n",
       "      <td>0</td>\n",
       "      <td>98178</td>\n",
       "      <td>47.51</td>\n",
       "      <td>-122.26</td>\n",
       "      <td>1340</td>\n",
       "      <td>5650</td>\n",
       "    </tr>\n",
       "    <tr>\n",
       "      <th>1</th>\n",
       "      <td>6414100192</td>\n",
       "      <td>20141209T000000</td>\n",
       "      <td>538000.00</td>\n",
       "      <td>3</td>\n",
       "      <td>2.25</td>\n",
       "      <td>2570</td>\n",
       "      <td>7242</td>\n",
       "      <td>2.00</td>\n",
       "      <td>0</td>\n",
       "      <td>0</td>\n",
       "      <td>...</td>\n",
       "      <td>7</td>\n",
       "      <td>2170</td>\n",
       "      <td>400</td>\n",
       "      <td>1951</td>\n",
       "      <td>1991</td>\n",
       "      <td>98125</td>\n",
       "      <td>47.72</td>\n",
       "      <td>-122.32</td>\n",
       "      <td>1690</td>\n",
       "      <td>7639</td>\n",
       "    </tr>\n",
       "    <tr>\n",
       "      <th>2</th>\n",
       "      <td>5631500400</td>\n",
       "      <td>20150225T000000</td>\n",
       "      <td>180000.00</td>\n",
       "      <td>2</td>\n",
       "      <td>1.00</td>\n",
       "      <td>770</td>\n",
       "      <td>10000</td>\n",
       "      <td>1.00</td>\n",
       "      <td>0</td>\n",
       "      <td>0</td>\n",
       "      <td>...</td>\n",
       "      <td>6</td>\n",
       "      <td>770</td>\n",
       "      <td>0</td>\n",
       "      <td>1933</td>\n",
       "      <td>0</td>\n",
       "      <td>98028</td>\n",
       "      <td>47.74</td>\n",
       "      <td>-122.23</td>\n",
       "      <td>2720</td>\n",
       "      <td>8062</td>\n",
       "    </tr>\n",
       "    <tr>\n",
       "      <th>3</th>\n",
       "      <td>2487200875</td>\n",
       "      <td>20141209T000000</td>\n",
       "      <td>604000.00</td>\n",
       "      <td>4</td>\n",
       "      <td>3.00</td>\n",
       "      <td>1960</td>\n",
       "      <td>5000</td>\n",
       "      <td>1.00</td>\n",
       "      <td>0</td>\n",
       "      <td>0</td>\n",
       "      <td>...</td>\n",
       "      <td>7</td>\n",
       "      <td>1050</td>\n",
       "      <td>910</td>\n",
       "      <td>1965</td>\n",
       "      <td>0</td>\n",
       "      <td>98136</td>\n",
       "      <td>47.52</td>\n",
       "      <td>-122.39</td>\n",
       "      <td>1360</td>\n",
       "      <td>5000</td>\n",
       "    </tr>\n",
       "    <tr>\n",
       "      <th>4</th>\n",
       "      <td>1954400510</td>\n",
       "      <td>20150218T000000</td>\n",
       "      <td>510000.00</td>\n",
       "      <td>3</td>\n",
       "      <td>2.00</td>\n",
       "      <td>1680</td>\n",
       "      <td>8080</td>\n",
       "      <td>1.00</td>\n",
       "      <td>0</td>\n",
       "      <td>0</td>\n",
       "      <td>...</td>\n",
       "      <td>8</td>\n",
       "      <td>1680</td>\n",
       "      <td>0</td>\n",
       "      <td>1987</td>\n",
       "      <td>0</td>\n",
       "      <td>98074</td>\n",
       "      <td>47.62</td>\n",
       "      <td>-122.05</td>\n",
       "      <td>1800</td>\n",
       "      <td>7503</td>\n",
       "    </tr>\n",
       "  </tbody>\n",
       "</table>\n",
       "<p>5 rows × 21 columns</p>\n",
       "</div>"
      ],
      "text/plain": [
       "           id             date     price  bedrooms  bathrooms  sqft_living  \\\n",
       "0  7129300520  20141013T000000 221900.00         3       1.00         1180   \n",
       "1  6414100192  20141209T000000 538000.00         3       2.25         2570   \n",
       "2  5631500400  20150225T000000 180000.00         2       1.00          770   \n",
       "3  2487200875  20141209T000000 604000.00         4       3.00         1960   \n",
       "4  1954400510  20150218T000000 510000.00         3       2.00         1680   \n",
       "\n",
       "   sqft_lot  floors  waterfront  view  ...  grade  sqft_above  sqft_basement  \\\n",
       "0      5650    1.00           0     0  ...      7        1180              0   \n",
       "1      7242    2.00           0     0  ...      7        2170            400   \n",
       "2     10000    1.00           0     0  ...      6         770              0   \n",
       "3      5000    1.00           0     0  ...      7        1050            910   \n",
       "4      8080    1.00           0     0  ...      8        1680              0   \n",
       "\n",
       "   yr_built  yr_renovated  zipcode   lat    long  sqft_living15  sqft_lot15  \n",
       "0      1955             0    98178 47.51 -122.26           1340        5650  \n",
       "1      1951          1991    98125 47.72 -122.32           1690        7639  \n",
       "2      1933             0    98028 47.74 -122.23           2720        8062  \n",
       "3      1965             0    98136 47.52 -122.39           1360        5000  \n",
       "4      1987             0    98074 47.62 -122.05           1800        7503  \n",
       "\n",
       "[5 rows x 21 columns]"
      ]
     },
     "execution_count": 42,
     "metadata": {},
     "output_type": "execute_result"
    }
   ],
   "source": [
    "df = pd.read_csv('../datasets/kc_house_data.csv')\n",
    "df.head()"
   ]
  },
  {
   "cell_type": "markdown",
   "metadata": {
    "heading_collapsed": true,
    "hidden": true
   },
   "source": [
    "### Verificar tipos de variáveis em cada coluna"
   ]
  },
  {
   "cell_type": "code",
   "execution_count": 43,
   "metadata": {
    "hidden": true
   },
   "outputs": [
    {
     "data": {
      "text/plain": [
       "id                 int64\n",
       "date              object\n",
       "price            float64\n",
       "bedrooms           int64\n",
       "bathrooms        float64\n",
       "sqft_living        int64\n",
       "sqft_lot           int64\n",
       "floors           float64\n",
       "waterfront         int64\n",
       "view               int64\n",
       "condition          int64\n",
       "grade              int64\n",
       "sqft_above         int64\n",
       "sqft_basement      int64\n",
       "yr_built           int64\n",
       "yr_renovated       int64\n",
       "zipcode            int64\n",
       "lat              float64\n",
       "long             float64\n",
       "sqft_living15      int64\n",
       "sqft_lot15         int64\n",
       "dtype: object"
      ]
     },
     "execution_count": 43,
     "metadata": {},
     "output_type": "execute_result"
    }
   ],
   "source": [
    "df.dtypes"
   ]
  },
  {
   "cell_type": "markdown",
   "metadata": {
    "heading_collapsed": true,
    "hidden": true
   },
   "source": [
    "### converter de objeto para tipo data"
   ]
  },
  {
   "cell_type": "code",
   "execution_count": 44,
   "metadata": {
    "hidden": true
   },
   "outputs": [
    {
     "data": {
      "text/plain": [
       "0   2014-10-13\n",
       "1   2014-12-09\n",
       "2   2015-02-25\n",
       "3   2014-12-09\n",
       "4   2015-02-18\n",
       "Name: date, dtype: datetime64[ns]"
      ]
     },
     "execution_count": 44,
     "metadata": {},
     "output_type": "execute_result"
    }
   ],
   "source": [
    "df.date = pd.to_datetime(df.date)\n",
    "df.date.head()"
   ]
  },
  {
   "cell_type": "markdown",
   "metadata": {
    "heading_collapsed": true
   },
   "source": [
    "# Dicionário"
   ]
  },
  {
   "cell_type": "markdown",
   "metadata": {
    "heading_collapsed": true,
    "hidden": true
   },
   "source": [
    "### Como criar um dicionário"
   ]
  },
  {
   "cell_type": "code",
   "execution_count": 23,
   "metadata": {
    "hidden": true
   },
   "outputs": [],
   "source": [
    "\n",
    "\n",
    "tabela = {\n",
    "    \"alicate\": 45,\n",
    "    \"fenda\": 12,\n",
    "    \"philips\": 11\n",
    "}"
   ]
  },
  {
   "cell_type": "markdown",
   "metadata": {
    "hidden": true
   },
   "source": [
    "### Como obter valores do dicionário"
   ]
  },
  {
   "cell_type": "code",
   "execution_count": 12,
   "metadata": {
    "hidden": true
   },
   "outputs": [
    {
     "data": {
      "text/plain": [
       "177"
      ]
     },
     "execution_count": 12,
     "metadata": {},
     "output_type": "execute_result"
    }
   ],
   "source": [
    "tabela['alicate'] + tabela['fenda'] * tabela['philips']"
   ]
  },
  {
   "cell_type": "markdown",
   "metadata": {
    "heading_collapsed": true
   },
   "source": [
    "# Agrupamento"
   ]
  },
  {
   "cell_type": "markdown",
   "metadata": {
    "heading_collapsed": true,
    "hidden": true
   },
   "source": [
    "### Filtrando itens"
   ]
  },
  {
   "cell_type": "code",
   "execution_count": 47,
   "metadata": {
    "hidden": true
   },
   "outputs": [],
   "source": [
    "df_grouped = df[['id', 'bedrooms']].groupby( 'bedrooms') # pode adicionar .size() \n"
   ]
  },
  {
   "cell_type": "code",
   "execution_count": 48,
   "metadata": {
    "hidden": true
   },
   "outputs": [
    {
     "name": "stdout",
     "output_type": "stream",
     "text": [
      "Número de quartos: <pandas.core.groupby.generic.SeriesGroupBy object at 0x00000226E64A83A0>\n",
      "              id  bedrooms\n",
      "875   6306400140         0\n",
      "3119  3918400017         0\n",
      "3467  1453602309         0\n",
      "4868  6896300380         0\n",
      "6994  2954400190         0\n",
      "\n",
      "Número de quartos: <pandas.core.groupby.generic.SeriesGroupBy object at 0x00000226E64A8D30>\n",
      "             id  bedrooms\n",
      "154  7920100045         1\n",
      "264  2123039032         1\n",
      "350  7325600160         1\n",
      "465  8658300340         1\n",
      "648   922049078         1\n",
      "\n",
      "Número de quartos: <pandas.core.groupby.generic.SeriesGroupBy object at 0x00000226E64AE8E0>\n",
      "            id  bedrooms\n",
      "2   5631500400         2\n",
      "11  9212900260         2\n",
      "18    16000397         2\n",
      "23  8091400200         2\n",
      "31  2426039314         2\n",
      "\n",
      "Número de quartos: <pandas.core.groupby.generic.SeriesGroupBy object at 0x00000226E64AEB80>\n",
      "           id  bedrooms\n",
      "0  7129300520         3\n",
      "1  6414100192         3\n",
      "4  1954400510         3\n",
      "6  1321400060         3\n",
      "7  2008000270         3\n",
      "\n",
      "Número de quartos: <pandas.core.groupby.generic.SeriesGroupBy object at 0x00000226E64AE550>\n",
      "            id  bedrooms\n",
      "3   2487200875         4\n",
      "5   7237550310         4\n",
      "15  9297300055         4\n",
      "17  6865200140         4\n",
      "20  6300500875         4\n",
      "\n",
      "Número de quartos: <pandas.core.groupby.generic.SeriesGroupBy object at 0x00000226E64AE8E0>\n",
      "            id  bedrooms\n",
      "14  1175000570         5\n",
      "22  7137970340         5\n",
      "42  7203220400         5\n",
      "51  7231300125         5\n",
      "54  4217401195         5\n",
      "\n",
      "Número de quartos: <pandas.core.groupby.generic.SeriesGroupBy object at 0x00000226E64AEB80>\n",
      "             id  bedrooms\n",
      "209  6300000550         6\n",
      "232  9264902050         6\n",
      "239  5152100060         6\n",
      "331  2946001550         6\n",
      "486  9286000240         6\n",
      "\n",
      "Número de quartos: <pandas.core.groupby.generic.SeriesGroupBy object at 0x00000226E64AE550>\n",
      "              id  bedrooms\n",
      "556   5486800070         7\n",
      "1135  4024100951         7\n",
      "1241  7227802030         7\n",
      "3721  5451100490         7\n",
      "4024  9175600025         7\n",
      "\n",
      "Número de quartos: <pandas.core.groupby.generic.SeriesGroupBy object at 0x00000226E64AE8E0>\n",
      "              id  bedrooms\n",
      "1660  9126101740         8\n",
      "4035   685000115         8\n",
      "4067  7226500100         8\n",
      "6174  1873400020         8\n",
      "9077  6746700615         8\n",
      "\n",
      "Número de quartos: <pandas.core.groupby.generic.SeriesGroupBy object at 0x00000226E64AEB80>\n",
      "               id  bedrooms\n",
      "4096   1997200215         9\n",
      "4235   2902200015         9\n",
      "6079   9822700190         9\n",
      "8546    424049043         9\n",
      "16844  8823900290         9\n",
      "\n",
      "Número de quartos: <pandas.core.groupby.generic.SeriesGroupBy object at 0x00000226E64AE550>\n",
      "               id  bedrooms\n",
      "13314   627300145        10\n",
      "15161  5566100170        10\n",
      "19254  8812401450        10\n",
      "\n",
      "Número de quartos: <pandas.core.groupby.generic.SeriesGroupBy object at 0x00000226E64AE8E0>\n",
      "              id  bedrooms\n",
      "8757  1773100755        11\n",
      "\n",
      "Número de quartos: <pandas.core.groupby.generic.SeriesGroupBy object at 0x00000226E64AEB80>\n",
      "               id  bedrooms\n",
      "15870  2402100895        33\n",
      "\n"
     ]
    }
   ],
   "source": [
    "for bedrooms, frame in df_grouped:\n",
    "    print('Número de quartos: {}'.format(df_grouped.bedrooms))\n",
    "    print(frame.head(), end= '\\n\\n')"
   ]
  },
  {
   "cell_type": "markdown",
   "metadata": {
    "heading_collapsed": true
   },
   "source": [
    "# Definir casas decimais"
   ]
  },
  {
   "cell_type": "code",
   "execution_count": 49,
   "metadata": {
    "hidden": true
   },
   "outputs": [],
   "source": [
    "pd.set_option( 'display.float_format', lambda x: '%.2f' %x)"
   ]
  },
  {
   "cell_type": "markdown",
   "metadata": {
    "heading_collapsed": true
   },
   "source": [
    "# Desvio Padrão\n"
   ]
  },
  {
   "cell_type": "code",
   "execution_count": 50,
   "metadata": {
    "hidden": true
   },
   "outputs": [
    {
     "data": {
      "text/html": [
       "<div>\n",
       "<style scoped>\n",
       "    .dataframe tbody tr th:only-of-type {\n",
       "        vertical-align: middle;\n",
       "    }\n",
       "\n",
       "    .dataframe tbody tr th {\n",
       "        vertical-align: top;\n",
       "    }\n",
       "\n",
       "    .dataframe thead th {\n",
       "        text-align: right;\n",
       "    }\n",
       "</style>\n",
       "<table border=\"1\" class=\"dataframe\">\n",
       "  <thead>\n",
       "    <tr style=\"text-align: right;\">\n",
       "      <th></th>\n",
       "      <th>yr_built</th>\n",
       "      <th>sqft_living</th>\n",
       "    </tr>\n",
       "  </thead>\n",
       "  <tbody>\n",
       "    <tr>\n",
       "      <th>0</th>\n",
       "      <td>1900</td>\n",
       "      <td>732.94</td>\n",
       "    </tr>\n",
       "    <tr>\n",
       "      <th>1</th>\n",
       "      <td>1901</td>\n",
       "      <td>668.23</td>\n",
       "    </tr>\n",
       "    <tr>\n",
       "      <th>2</th>\n",
       "      <td>1902</td>\n",
       "      <td>878.66</td>\n",
       "    </tr>\n",
       "    <tr>\n",
       "      <th>3</th>\n",
       "      <td>1903</td>\n",
       "      <td>469.72</td>\n",
       "    </tr>\n",
       "    <tr>\n",
       "      <th>4</th>\n",
       "      <td>1904</td>\n",
       "      <td>1076.87</td>\n",
       "    </tr>\n",
       "  </tbody>\n",
       "</table>\n",
       "</div>"
      ],
      "text/plain": [
       "   yr_built  sqft_living\n",
       "0      1900       732.94\n",
       "1      1901       668.23\n",
       "2      1902       878.66\n",
       "3      1903       469.72\n",
       "4      1904      1076.87"
      ]
     },
     "execution_count": 50,
     "metadata": {},
     "output_type": "execute_result"
    }
   ],
   "source": [
    "df[['sqft_living', 'yr_built']].groupby( 'yr_built').std ().reset_index().head()\n",
    "\n",
    "#__ std() : é a função que calcula o desvio padrão.\n",
    "#__ reset_index() : reseta as linhas para manter as colunas normais.\n"
   ]
  },
  {
   "cell_type": "markdown",
   "metadata": {
    "heading_collapsed": true
   },
   "source": [
    "# Criando gráfico de barras"
   ]
  },
  {
   "cell_type": "code",
   "execution_count": 51,
   "metadata": {
    "hidden": true
   },
   "outputs": [
    {
     "data": {
      "text/plain": [
       "<BarContainer object of 2 artists>"
      ]
     },
     "execution_count": 51,
     "metadata": {},
     "output_type": "execute_result"
    },
    {
     "data": {
      "image/png": "[encoded data removed]",
      "text/plain": [
       "<Figure size 432x288 with 1 Axes>"
      ]
     },
     "metadata": {
      "needs_background": "light"
     },
     "output_type": "display_data"
    }
   ],
   "source": [
    "# Ideia: crescimento total de preços de compras dos imóveis por ano.\n",
    "# Eixo x: Anos\n",
    "# Eixo y: soma dos preços\n",
    "# Gráfico: Barras\n",
    "\n",
    "\n",
    "from matplotlib import pyplot as plt # (Da pasta 'matplotlib', importa 'pyplot')\n",
    "\n",
    "# gráfico 1\n",
    "df['year'] = df['date'].dt.year # cria uma coluna 'year' passa os valores do ano da coluna 'date'\n",
    "\n",
    "by_year = df[['price', 'year']].groupby('year').sum().reset_index() # cria variável que recebe o grupo de preço e ano.\n",
    "\n",
    "plt.bar(by_year['year'], by_year['price'])"
   ]
  },
  {
   "cell_type": "markdown",
   "metadata": {
    "heading_collapsed": true
   },
   "source": [
    "# Criando gráfico Linhas"
   ]
  },
  {
   "cell_type": "code",
   "execution_count": 52,
   "metadata": {
    "hidden": true
   },
   "outputs": [
    {
     "data": {
      "text/plain": [
       "[<matplotlib.lines.Line2D at 0x226e6bc3ac0>]"
      ]
     },
     "execution_count": 52,
     "metadata": {},
     "output_type": "execute_result"
    },
    {
     "data": {
      "image/png": "[encoded data removed]",
      "text/plain": [
       "<Figure size 1440x864 with 1 Axes>"
      ]
     },
     "metadata": {
      "needs_background": "light"
     },
     "output_type": "display_data"
    }
   ],
   "source": [
    "# Ideia: Ver evolução do preço médio\n",
    "# gráfico 2\n",
    "\n",
    "df['day'] = pd.to_datetime( df['date'])\n",
    "by_day = df[['price', 'day']].groupby('day').mean().reset_index()\n",
    "\n",
    "\n",
    "plt.figure( figsize= (20, 12))\n",
    "plt.plot( by_day['day'], by_day['price'])\n",
    "\n"
   ]
  },
  {
   "cell_type": "markdown",
   "metadata": {
    "heading_collapsed": true
   },
   "source": [
    "# Gráfico de linhas por semanas"
   ]
  },
  {
   "cell_type": "code",
   "execution_count": 53,
   "metadata": {
    "hidden": true
   },
   "outputs": [
    {
     "data": {
      "image/png": "[encoded data removed]",
      "text/plain": [
       "<Figure size 1440x864 with 1 Axes>"
      ]
     },
     "metadata": {
      "needs_background": "light"
     },
     "output_type": "display_data"
    }
   ],
   "source": [
    "# gráfico 3\n",
    "\n",
    "df['year_week'] = pd.to_datetime(df['date']).dt.strftime( '%Y-%U' )\n",
    "by_year_week = df[['price', 'year_week']].groupby( 'year_week' ).mean().reset_index()\n",
    "\n",
    "plt.figure( figsize= (20, 12))\n",
    "plt.plot (by_year_week['year_week'], by_year_week ['price'] )\n",
    "plt.xticks( rotation = 60);"
   ]
  },
  {
   "cell_type": "code",
   "execution_count": 54,
   "metadata": {
    "hidden": true
   },
   "outputs": [
    {
     "data": {
      "image/png": "[encoded data removed]",
      "text/plain": [
       "<Figure size 1440x864 with 3 Axes>"
      ]
     },
     "metadata": {
      "needs_background": "light"
     },
     "output_type": "display_data"
    }
   ],
   "source": [
    "from matplotlib import gridspec\n",
    "\n",
    "fig = plt.figure (figsize= (20, 12))\n",
    "specs = gridspec.GridSpec (ncols= 2, nrows=2, figure= fig)\n",
    "\n",
    "\n",
    "ax1 = fig.add_subplot (specs[0, :]) # primeira linha\n",
    "ax2 = fig.add_subplot (specs[1, 0]) # segunda linha  - primeira coluna\n",
    "ax3 = fig.add_subplot (specs[1, 1]) # segunda linha  - segunda coluna\n",
    "\n",
    "\n",
    "# gráfico\n",
    "df['year'] = df['date'].dt.year\n",
    "\n",
    "by_year = df[['price', 'year']].groupby('year').sum().reset_index()\n",
    "\n",
    "ax1.bar(by_year['year'], by_year['price'])\n",
    "\n",
    "# gráfico 2\n",
    "df['day'] = pd.to_datetime( df['date'])\n",
    "by_day = df[['price', 'day']].groupby('day').mean().reset_index()\n",
    "\n",
    "ax2.plot( by_day['day'], by_day['price'])\n",
    "\n",
    "# gráfico 3\n",
    "df['year_week'] = pd.to_datetime(df['date']).dt.strftime( '%Y-%U' )\n",
    "by_year_week = df[['price', 'year_week']].groupby( 'year_week' ).mean().reset_index()\n",
    "ax3.plot (by_year_week['year_week'], by_year_week ['price'] )\n",
    "plt.xticks(rotation=60);"
   ]
  },
  {
   "cell_type": "code",
   "execution_count": null,
   "metadata": {
    "hidden": true
   },
   "outputs": [],
   "source": []
  },
  {
   "cell_type": "markdown",
   "metadata": {
    "heading_collapsed": true
   },
   "source": [
    "# Listas"
   ]
  },
  {
   "cell_type": "code",
   "execution_count": 55,
   "metadata": {
    "hidden": true
   },
   "outputs": [],
   "source": [
    "# Estruturas de Dados - Lista\n",
    "a = [2, 3, 4, 5, 6, 7]\n",
    "\n",
    "# lista de Strings\n",
    "b = ['seja', 'um', 'cientista', 'de', 'dados']\n",
    "\n",
    "# Lista de String e números\n",
    "c = ['seja', 1, 'cientista', 10, ['de', 10, 'dados'] ]\n",
    "\n",
    "# criando uma lista vazia\n",
    "d = []"
   ]
  },
  {
   "cell_type": "markdown",
   "metadata": {
    "heading_collapsed": true
   },
   "source": [
    "# Adicionando Elementos"
   ]
  },
  {
   "cell_type": "code",
   "execution_count": 56,
   "metadata": {
    "hidden": true
   },
   "outputs": [
    {
     "name": "stdout",
     "output_type": "stream",
     "text": [
      "['seja', 1, 'cientista', 10, 400, ['de', 10, 'dados'], 50]\n"
     ]
    },
    {
     "data": {
      "text/plain": [
       "7"
      ]
     },
     "execution_count": 56,
     "metadata": {},
     "output_type": "execute_result"
    }
   ],
   "source": [
    "# a função .append(elemento) sempre coloca elemento no final da lista\n",
    "c.append(50)\n",
    "\n",
    "# a função .insert(posição, elemento) sempre coloca o elemento na posição desejada.\n",
    "c.insert(4, 400)\n",
    "\n",
    "# a função len(lista) retorna o tamanho da lista\n",
    "print(c)\n",
    "len(c)\n"
   ]
  },
  {
   "cell_type": "markdown",
   "metadata": {
    "heading_collapsed": true
   },
   "source": [
    "# Estruturas de controle - CONDICIONAL"
   ]
  },
  {
   "cell_type": "markdown",
   "metadata": {
    "heading_collapsed": true,
    "hidden": true
   },
   "source": [
    "## Lógicas E (AND)\n",
    "### Lógica de Multiplicação\n",
    "\n",
    "### Bedrooms | Floors\n",
    "##### True | True -> RESULTADO\n",
    "##### True | False -> Erro"
   ]
  },
  {
   "cell_type": "code",
   "execution_count": 57,
   "metadata": {
    "hidden": true
   },
   "outputs": [
    {
     "data": {
      "text/html": [
       "<div>\n",
       "<style scoped>\n",
       "    .dataframe tbody tr th:only-of-type {\n",
       "        vertical-align: middle;\n",
       "    }\n",
       "\n",
       "    .dataframe tbody tr th {\n",
       "        vertical-align: top;\n",
       "    }\n",
       "\n",
       "    .dataframe thead th {\n",
       "        text-align: right;\n",
       "    }\n",
       "</style>\n",
       "<table border=\"1\" class=\"dataframe\">\n",
       "  <thead>\n",
       "    <tr style=\"text-align: right;\">\n",
       "      <th></th>\n",
       "      <th>id</th>\n",
       "      <th>date</th>\n",
       "      <th>price</th>\n",
       "      <th>bedrooms</th>\n",
       "      <th>bathrooms</th>\n",
       "      <th>sqft_living</th>\n",
       "      <th>sqft_lot</th>\n",
       "      <th>floors</th>\n",
       "      <th>waterfront</th>\n",
       "      <th>view</th>\n",
       "      <th>...</th>\n",
       "      <th>yr_built</th>\n",
       "      <th>yr_renovated</th>\n",
       "      <th>zipcode</th>\n",
       "      <th>lat</th>\n",
       "      <th>long</th>\n",
       "      <th>sqft_living15</th>\n",
       "      <th>sqft_lot15</th>\n",
       "      <th>year</th>\n",
       "      <th>day</th>\n",
       "      <th>year_week</th>\n",
       "    </tr>\n",
       "  </thead>\n",
       "  <tbody>\n",
       "  </tbody>\n",
       "</table>\n",
       "<p>0 rows × 24 columns</p>\n",
       "</div>"
      ],
      "text/plain": [
       "Empty DataFrame\n",
       "Columns: [id, date, price, bedrooms, bathrooms, sqft_living, sqft_lot, floors, waterfront, view, condition, grade, sqft_above, sqft_basement, yr_built, yr_renovated, zipcode, lat, long, sqft_living15, sqft_lot15, year, day, year_week]\n",
       "Index: []\n",
       "\n",
       "[0 rows x 24 columns]"
      ]
     },
     "execution_count": 57,
     "metadata": {},
     "output_type": "execute_result"
    }
   ],
   "source": [
    "# TRUE & TRUE\n",
    "data = df[(df['bedrooms'] == 4) & (df['floors'] == 2)]\n",
    "\n",
    "# TRUE & FALSE\n",
    "data = df[(df['bedrooms'] == 4) & (df['floors'] == 20)]\n",
    "\n",
    "# FALSE & TRUE\n",
    "data = df[(df['bedrooms'] == 50) & (df['floors'] == 2)]\n",
    "\n",
    "#FALSE & FALSE\n",
    "data = df[(df['bedrooms'] == 50) & (df['floors'] == 20)]\n",
    "\n",
    "\n",
    "data.head()\n",
    "\n"
   ]
  },
  {
   "cell_type": "markdown",
   "metadata": {
    "heading_collapsed": true,
    "hidden": true
   },
   "source": [
    "## Lógicas OU ( OR )\n",
    "### Lógica de Soma\n",
    "\n",
    "### Bedrooms | Floors\n",
    "##### True | True -> RESULTADO\n",
    "##### True | False -> RESULTADO\n",
    "##### False | True -> RESULTADO\n",
    "##### False | False -> ERRO"
   ]
  },
  {
   "cell_type": "code",
   "execution_count": 58,
   "metadata": {
    "hidden": true
   },
   "outputs": [
    {
     "data": {
      "text/html": [
       "<div>\n",
       "<style scoped>\n",
       "    .dataframe tbody tr th:only-of-type {\n",
       "        vertical-align: middle;\n",
       "    }\n",
       "\n",
       "    .dataframe tbody tr th {\n",
       "        vertical-align: top;\n",
       "    }\n",
       "\n",
       "    .dataframe thead th {\n",
       "        text-align: right;\n",
       "    }\n",
       "</style>\n",
       "<table border=\"1\" class=\"dataframe\">\n",
       "  <thead>\n",
       "    <tr style=\"text-align: right;\">\n",
       "      <th></th>\n",
       "      <th>id</th>\n",
       "      <th>date</th>\n",
       "      <th>price</th>\n",
       "      <th>bedrooms</th>\n",
       "      <th>bathrooms</th>\n",
       "      <th>sqft_living</th>\n",
       "      <th>sqft_lot</th>\n",
       "      <th>floors</th>\n",
       "      <th>waterfront</th>\n",
       "      <th>view</th>\n",
       "      <th>...</th>\n",
       "      <th>yr_built</th>\n",
       "      <th>yr_renovated</th>\n",
       "      <th>zipcode</th>\n",
       "      <th>lat</th>\n",
       "      <th>long</th>\n",
       "      <th>sqft_living15</th>\n",
       "      <th>sqft_lot15</th>\n",
       "      <th>year</th>\n",
       "      <th>day</th>\n",
       "      <th>year_week</th>\n",
       "    </tr>\n",
       "  </thead>\n",
       "  <tbody>\n",
       "  </tbody>\n",
       "</table>\n",
       "<p>0 rows × 24 columns</p>\n",
       "</div>"
      ],
      "text/plain": [
       "Empty DataFrame\n",
       "Columns: [id, date, price, bedrooms, bathrooms, sqft_living, sqft_lot, floors, waterfront, view, condition, grade, sqft_above, sqft_basement, yr_built, yr_renovated, zipcode, lat, long, sqft_living15, sqft_lot15, year, day, year_week]\n",
       "Index: []\n",
       "\n",
       "[0 rows x 24 columns]"
      ]
     },
     "execution_count": 58,
     "metadata": {},
     "output_type": "execute_result"
    }
   ],
   "source": [
    "# TRUE & TRUE\n",
    "data = df[(df['bedrooms'] == 4) | (df['floors'] == 2)]\n",
    "\n",
    "# TRUE & FALSE\n",
    "data = df[(df['bedrooms'] == 4) | (df['floors'] == 20)]\n",
    "\n",
    "# FALSE & TRUE\n",
    "data = df[(df['bedrooms'] == 50) | (df['floors'] == 2)]\n",
    "\n",
    "#FALSE & FALSE\n",
    "data = df[(df['bedrooms'] == 50) | (df['floors'] == 20)]\n",
    "\n",
    "\n",
    "data.head()"
   ]
  },
  {
   "cell_type": "markdown",
   "metadata": {
    "heading_collapsed": true,
    "hidden": true
   },
   "source": [
    "## Construção lógica sem FOR "
   ]
  },
  {
   "cell_type": "code",
   "execution_count": 77,
   "metadata": {
    "hidden": true
   },
   "outputs": [
    {
     "data": {
      "text/html": [
       "<div>\n",
       "<style scoped>\n",
       "    .dataframe tbody tr th:only-of-type {\n",
       "        vertical-align: middle;\n",
       "    }\n",
       "\n",
       "    .dataframe tbody tr th {\n",
       "        vertical-align: top;\n",
       "    }\n",
       "\n",
       "    .dataframe thead th {\n",
       "        text-align: right;\n",
       "    }\n",
       "</style>\n",
       "<table border=\"1\" class=\"dataframe\">\n",
       "  <thead>\n",
       "    <tr style=\"text-align: right;\">\n",
       "      <th></th>\n",
       "      <th>id</th>\n",
       "      <th>date</th>\n",
       "      <th>price</th>\n",
       "      <th>bedrooms</th>\n",
       "      <th>bathrooms</th>\n",
       "      <th>sqft_living</th>\n",
       "      <th>sqft_lot</th>\n",
       "      <th>floors</th>\n",
       "      <th>waterfront</th>\n",
       "      <th>view</th>\n",
       "      <th>...</th>\n",
       "      <th>yr_renovated</th>\n",
       "      <th>zipcode</th>\n",
       "      <th>lat</th>\n",
       "      <th>long</th>\n",
       "      <th>sqft_living15</th>\n",
       "      <th>sqft_lot15</th>\n",
       "      <th>year</th>\n",
       "      <th>day</th>\n",
       "      <th>year_week</th>\n",
       "      <th>nivel</th>\n",
       "    </tr>\n",
       "  </thead>\n",
       "  <tbody>\n",
       "    <tr>\n",
       "      <th>5</th>\n",
       "      <td>7237550310</td>\n",
       "      <td>2014-05-12</td>\n",
       "      <td>1225000.00</td>\n",
       "      <td>4</td>\n",
       "      <td>4.50</td>\n",
       "      <td>5420</td>\n",
       "      <td>101930</td>\n",
       "      <td>1.00</td>\n",
       "      <td>0</td>\n",
       "      <td>0</td>\n",
       "      <td>...</td>\n",
       "      <td>0</td>\n",
       "      <td>98053</td>\n",
       "      <td>47.66</td>\n",
       "      <td>-122.00</td>\n",
       "      <td>4760</td>\n",
       "      <td>101930</td>\n",
       "      <td>2014</td>\n",
       "      <td>2014-05-12</td>\n",
       "      <td>2014-19</td>\n",
       "      <td>nivel_3</td>\n",
       "    </tr>\n",
       "    <tr>\n",
       "      <th>10</th>\n",
       "      <td>1736800520</td>\n",
       "      <td>2015-04-03</td>\n",
       "      <td>662500.00</td>\n",
       "      <td>3</td>\n",
       "      <td>2.50</td>\n",
       "      <td>3560</td>\n",
       "      <td>9796</td>\n",
       "      <td>1.00</td>\n",
       "      <td>0</td>\n",
       "      <td>0</td>\n",
       "      <td>...</td>\n",
       "      <td>0</td>\n",
       "      <td>98007</td>\n",
       "      <td>47.60</td>\n",
       "      <td>-122.14</td>\n",
       "      <td>2210</td>\n",
       "      <td>8925</td>\n",
       "      <td>2015</td>\n",
       "      <td>2015-04-03</td>\n",
       "      <td>2015-13</td>\n",
       "      <td>nivel_3</td>\n",
       "    </tr>\n",
       "    <tr>\n",
       "      <th>15</th>\n",
       "      <td>9297300055</td>\n",
       "      <td>2015-01-24</td>\n",
       "      <td>650000.00</td>\n",
       "      <td>4</td>\n",
       "      <td>3.00</td>\n",
       "      <td>2950</td>\n",
       "      <td>5000</td>\n",
       "      <td>2.00</td>\n",
       "      <td>0</td>\n",
       "      <td>3</td>\n",
       "      <td>...</td>\n",
       "      <td>0</td>\n",
       "      <td>98126</td>\n",
       "      <td>47.57</td>\n",
       "      <td>-122.38</td>\n",
       "      <td>2140</td>\n",
       "      <td>4000</td>\n",
       "      <td>2015</td>\n",
       "      <td>2015-01-24</td>\n",
       "      <td>2015-03</td>\n",
       "      <td>nivel_3</td>\n",
       "    </tr>\n",
       "    <tr>\n",
       "      <th>21</th>\n",
       "      <td>2524049179</td>\n",
       "      <td>2014-08-26</td>\n",
       "      <td>2000000.00</td>\n",
       "      <td>3</td>\n",
       "      <td>2.75</td>\n",
       "      <td>3050</td>\n",
       "      <td>44867</td>\n",
       "      <td>1.00</td>\n",
       "      <td>0</td>\n",
       "      <td>4</td>\n",
       "      <td>...</td>\n",
       "      <td>0</td>\n",
       "      <td>98040</td>\n",
       "      <td>47.53</td>\n",
       "      <td>-122.23</td>\n",
       "      <td>4110</td>\n",
       "      <td>20336</td>\n",
       "      <td>2014</td>\n",
       "      <td>2014-08-26</td>\n",
       "      <td>2014-34</td>\n",
       "      <td>nivel_3</td>\n",
       "    </tr>\n",
       "    <tr>\n",
       "      <th>26</th>\n",
       "      <td>1794500383</td>\n",
       "      <td>2014-06-26</td>\n",
       "      <td>937000.00</td>\n",
       "      <td>3</td>\n",
       "      <td>1.75</td>\n",
       "      <td>2450</td>\n",
       "      <td>2691</td>\n",
       "      <td>2.00</td>\n",
       "      <td>0</td>\n",
       "      <td>0</td>\n",
       "      <td>...</td>\n",
       "      <td>0</td>\n",
       "      <td>98119</td>\n",
       "      <td>47.64</td>\n",
       "      <td>-122.36</td>\n",
       "      <td>1760</td>\n",
       "      <td>3573</td>\n",
       "      <td>2014</td>\n",
       "      <td>2014-06-26</td>\n",
       "      <td>2014-25</td>\n",
       "      <td>nivel_3</td>\n",
       "    </tr>\n",
       "  </tbody>\n",
       "</table>\n",
       "<p>5 rows × 25 columns</p>\n",
       "</div>"
      ],
      "text/plain": [
       "            id       date      price  bedrooms  bathrooms  sqft_living  \\\n",
       "5   7237550310 2014-05-12 1225000.00         4       4.50         5420   \n",
       "10  1736800520 2015-04-03  662500.00         3       2.50         3560   \n",
       "15  9297300055 2015-01-24  650000.00         4       3.00         2950   \n",
       "21  2524049179 2014-08-26 2000000.00         3       2.75         3050   \n",
       "26  1794500383 2014-06-26  937000.00         3       1.75         2450   \n",
       "\n",
       "    sqft_lot  floors  waterfront  view  ...  yr_renovated  zipcode   lat  \\\n",
       "5     101930    1.00           0     0  ...             0    98053 47.66   \n",
       "10      9796    1.00           0     0  ...             0    98007 47.60   \n",
       "15      5000    2.00           0     3  ...             0    98126 47.57   \n",
       "21     44867    1.00           0     4  ...             0    98040 47.53   \n",
       "26      2691    2.00           0     0  ...             0    98119 47.64   \n",
       "\n",
       "      long  sqft_living15  sqft_lot15  year        day  year_week    nivel  \n",
       "5  -122.00           4760      101930  2014 2014-05-12    2014-19  nivel_3  \n",
       "10 -122.14           2210        8925  2015 2015-04-03    2015-13  nivel_3  \n",
       "15 -122.38           2140        4000  2015 2015-01-24    2015-03  nivel_3  \n",
       "21 -122.23           4110       20336  2014 2014-08-26    2014-34  nivel_3  \n",
       "26 -122.36           1760        3573  2014 2014-06-26    2014-25  nivel_3  \n",
       "\n",
       "[5 rows x 25 columns]"
      ]
     },
     "execution_count": 77,
     "metadata": {},
     "output_type": "execute_result"
    }
   ],
   "source": [
    "# 1 Qual a quantidade de imóveis por nível ?\n",
    "# - nível 0: Preço entre R$ 0.00 e R$ 321.950\n",
    "# - nível 1: Preço entre 321.950 e R$  450.000\n",
    "# - nível 2: Preço entre 450.000 e R$ 645.000\n",
    "# - nível 3: Preço acima de R$ 645.000\n",
    "\n",
    "df['nivel'] = 'NA'\n",
    "df.loc[(df['price'] > 0) & (df['price'] < 321950), 'nivel'] = 'nivel_0'\n",
    "\n",
    "df.loc[(df['price'] > 321950) & (df['price'] < 450000), 'nivel'] = 'nivel_1'\n",
    "\n",
    "df.loc[(df['price'] > 450000) & (df['price'] < 645000), 'nivel'] = 'nivel_2'\n",
    "\n",
    "df.loc[df['price'] > 645000, 'nivel'] = 'nivel_3'\n",
    "\n",
    "df.loc[df['nivel'] == 'nivel_3'].head()"
   ]
  },
  {
   "cell_type": "markdown",
   "metadata": {
    "hidden": true
   },
   "source": [
    "## Construção lógica com FOR\n"
   ]
  },
  {
   "cell_type": "code",
   "execution_count": 84,
   "metadata": {
    "hidden": true,
    "scrolled": true
   },
   "outputs": [
    {
     "data": {
      "text/plain": [
       "0     nivel_0\n",
       "1     nivel_2\n",
       "2     nivel_0\n",
       "3     nivel_2\n",
       "4     nivel_2\n",
       "5     nivel_3\n",
       "6     nivel_0\n",
       "7     nivel_0\n",
       "8     nivel_0\n",
       "9     nivel_1\n",
       "10    nivel_3\n",
       "11    nivel_2\n",
       "12    nivel_0\n",
       "13    nivel_1\n",
       "14    nivel_2\n",
       "15    nivel_3\n",
       "16    nivel_1\n",
       "17    nivel_2\n",
       "18    nivel_0\n",
       "19    nivel_0\n",
       "Name: nivel, dtype: object"
      ]
     },
     "execution_count": 84,
     "metadata": {},
     "output_type": "execute_result"
    }
   ],
   "source": [
    "for i in range(len(df)):\n",
    "    if (df.loc[i, 'price'] > 0) & (df.loc[i, 'price'] < 321950):\n",
    "        df.loc[i, 'nivel'] = 'nivel_0'\n",
    "        \n",
    "    elif (df.loc[i, 'price'] > 321950) & (df.loc[i, 'price'] < 450000):\n",
    "        df.loc[i, 'nivel'] = 'nivel_1'\n",
    "                \n",
    "    elif (df.loc[i, 'price'] > 450000) & (df.loc[i, 'price'] < 645000):\n",
    "        df.loc[i, 'nivel'] = 'nivel_2'\n",
    "                \n",
    "    else:\n",
    "        df.loc[i, 'nivel'] = 'nivel_3'\n",
    "\n",
    "df['nivel'].head(20)"
   ]
  },
  {
   "cell_type": "markdown",
   "metadata": {},
   "source": [
    "# Estruturas de controle - LAÇOS\n",
    "## Usando API"
   ]
  },
  {
   "cell_type": "markdown",
   "metadata": {},
   "source": [
    "## Laço while"
   ]
  },
  {
   "cell_type": "code",
   "execution_count": 24,
   "metadata": {},
   "outputs": [
    {
     "name": "stdout",
     "output_type": "stream",
     "text": [
      "page:1\n",
      "page:2\n",
      "page:3\n",
      "page:4\n",
      "page:5\n",
      "page:6\n"
     ]
    },
    {
     "data": {
      "text/html": [
       "<div>\n",
       "<style scoped>\n",
       "    .dataframe tbody tr th:only-of-type {\n",
       "        vertical-align: middle;\n",
       "    }\n",
       "\n",
       "    .dataframe tbody tr th {\n",
       "        vertical-align: top;\n",
       "    }\n",
       "\n",
       "    .dataframe thead th {\n",
       "        text-align: right;\n",
       "    }\n",
       "</style>\n",
       "<table border=\"1\" class=\"dataframe\">\n",
       "  <thead>\n",
       "    <tr style=\"text-align: right;\">\n",
       "      <th></th>\n",
       "      <th>id</th>\n",
       "      <th>type</th>\n",
       "      <th>url</th>\n",
       "      <th>created_at</th>\n",
       "      <th>company</th>\n",
       "      <th>company_url</th>\n",
       "      <th>location</th>\n",
       "      <th>title</th>\n",
       "      <th>description</th>\n",
       "      <th>how_to_apply</th>\n",
       "      <th>company_logo</th>\n",
       "    </tr>\n",
       "  </thead>\n",
       "  <tbody>\n",
       "    <tr>\n",
       "      <th>0</th>\n",
       "      <td>1731001f-91e1-415e-a865-898a9f1279fa</td>\n",
       "      <td>Full Time</td>\n",
       "      <td>https://jobs.github.com/positions/1731001f-91e...</td>\n",
       "      <td>Thu Jan 07 23:34:50 UTC 2021</td>\n",
       "      <td>avoMD</td>\n",
       "      <td>http://avomd.io</td>\n",
       "      <td>Remote in the US</td>\n",
       "      <td>Lead Engineer</td>\n",
       "      <td>&lt;p&gt;Job Description – Lead Engineer&lt;/p&gt;\\n&lt;p&gt;&lt;st...</td>\n",
       "      <td>&lt;p&gt;Email your resume to Laurence at &lt;a href=\"m...</td>\n",
       "      <td>https://jobs.github.com/rails/active_storage/b...</td>\n",
       "    </tr>\n",
       "  </tbody>\n",
       "</table>\n",
       "</div>"
      ],
      "text/plain": [
       "                                     id       type  \\\n",
       "0  1731001f-91e1-415e-a865-898a9f1279fa  Full Time   \n",
       "\n",
       "                                                 url  \\\n",
       "0  https://jobs.github.com/positions/1731001f-91e...   \n",
       "\n",
       "                     created_at company      company_url          location  \\\n",
       "0  Thu Jan 07 23:34:50 UTC 2021   avoMD  http://avomd.io  Remote in the US   \n",
       "\n",
       "           title                                        description  \\\n",
       "0  Lead Engineer  <p>Job Description – Lead Engineer</p>\\n<p><st...   \n",
       "\n",
       "                                        how_to_apply  \\\n",
       "0  <p>Email your resume to Laurence at <a href=\"m...   \n",
       "\n",
       "                                        company_logo  \n",
       "0  https://jobs.github.com/rails/active_storage/b...  "
      ]
     },
     "execution_count": 24,
     "metadata": {},
     "output_type": "execute_result"
    }
   ],
   "source": [
    "# A BIBLIOTECA request É USADA PARA TRABALHAR COM API EM PYTHON\n",
    "import requests as r \n",
    "\n",
    "# CRIANDO ESTRUTURA DE CONTROLE while\n",
    "i = 1\n",
    "dataset = pd.DataFrame() # CRIA DataFrame VAZIO\n",
    "\n",
    "while True: # QUANDO NÃO SOUBEMOS O FINAL DA LISTA, UTILIZAMOS while\n",
    "    \n",
    "    print (f'page:{i}') # IMPRIME AS PÁGINAS NO CONSOLE\n",
    "    \n",
    "    url = f'https://jobs.github.com/positions.json?page={i}' # VARIÁVEL QUE CONTÉM A API\n",
    "    \n",
    "    response = r.request( 'GET', url ) # VARIÁVEL QUE OBTEM ('GET') OS DADOS DA API \n",
    "    \n",
    "    # CONDIÇÃO A QUAL VERIFICA ATÉ QUANDO O LOOP VAI EXISTIR\n",
    "    if response.json() != []: # SE response.json() FOR DIFERENTE DE VAZIO\n",
    "        \n",
    "        data = response.json()[0] # data INICIA NO PRIMEIRO ÍNDICE\n",
    "        \n",
    "        df = pd.DataFrame (data, index=[0]) # O DATA FRAMES INICIA A PARTIR DO PRIMEIRO INDEX\n",
    "        \n",
    "        # FUNÇÃO pd.concat(), CONCATENA COLUNAS, LADO A LADO OU UM ABAIXO DO OUTRO\n",
    "        # axis = 0, DIZ PARA O CANCAT QUE AS COLUNAS SERÃO UM AO LADO DO OUTRO\n",
    "        dataset = pd.concat ([dataset, df], axis= 0) \n",
    "        \n",
    "        i += 1 # INCREMENTA NA VARIÁVEL i\n",
    "    \n",
    "    else: # SE A LISTA FOR VAZIO, PARE O LOOPING\n",
    "        break \n",
    "\n",
    "df.head()"
   ]
  },
  {
   "cell_type": "code",
   "execution_count": null,
   "metadata": {},
   "outputs": [],
   "source": []
  }
 ],
 "metadata": {
  "kernelspec": {
   "display_name": "Python 3",
   "language": "python",
   "name": "python3"
  },
  "language_info": {
   "codemirror_mode": {
    "name": "ipython",
    "version": 3
   },
   "file_extension": ".py",
   "mimetype": "text/x-python",
   "name": "python",
   "nbconvert_exporter": "python",
   "pygments_lexer": "ipython3",
   "version": "3.8.5"
  }
 },
 "nbformat": 4,
 "nbformat_minor": 5
}
